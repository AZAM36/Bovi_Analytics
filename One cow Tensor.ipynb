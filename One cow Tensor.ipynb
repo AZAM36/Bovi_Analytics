{
 "cells": [
  {
   "cell_type": "markdown",
   "metadata": {
    "application/vnd.databricks.v1+cell": {
     "cellMetadata": {},
     "inputWidgets": {},
     "nuid": "8dd95b8c-1746-4a66-a3da-5aca71169c36",
     "showTitle": false,
     "tableResultSettingsMap": {},
     "title": ""
    }
   },
   "source": [
    "> ###Loading Complete Dataset"
   ]
  },
  {
   "cell_type": "code",
   "execution_count": 0,
   "metadata": {
    "application/vnd.databricks.v1+cell": {
     "cellMetadata": {},
     "inputWidgets": {},
     "nuid": "f05b3028-7e1a-4309-b189-d212a9efdddd",
     "showTitle": false,
     "tableResultSettingsMap": {},
     "title": ""
    }
   },
   "outputs": [],
   "source": [
    "%scala\n",
    "spark.sparkContext.hadoopConfiguration.set(\n",
    "  \"fs.azure.account.key.bovianalytics.blob.core.windows.net\",\n",
    "  \"JTG4AW2TT0WwlzNtX7tQ28fgqFt/w76st4N/pA0PyzW7RJ8yOwV0oyD9JcSnoIGc8k8yOKOPJSGX+ASt8ejJFw==\"\n",
    ")"
   ]
  },
  {
   "cell_type": "code",
   "execution_count": 0,
   "metadata": {
    "application/vnd.databricks.v1+cell": {
     "cellMetadata": {},
     "inputWidgets": {},
     "nuid": "966b280f-77e9-4ffb-a1ce-b44d15b250c6",
     "showTitle": false,
     "tableResultSettingsMap": {},
     "title": ""
    }
   },
   "outputs": [],
   "source": [
    "# Container name and file path\n",
    "container_name = \"gpluse-cluster-2\"\n",
    "storage_account_name = \"bovianalytics\"\n",
    "file_path_complete = \"Projects/SenseOfSensors/ParquetData/SensorAndCalvingDataRepartitioned02042021/\"\n"
   ]
  },
  {
   "cell_type": "code",
   "execution_count": 0,
   "metadata": {
    "application/vnd.databricks.v1+cell": {
     "cellMetadata": {},
     "inputWidgets": {},
     "nuid": "c1e20fec-c39f-488d-9330-399408337ca1",
     "showTitle": false,
     "tableResultSettingsMap": {},
     "title": ""
    }
   },
   "outputs": [],
   "source": [
    "# Listing files in Storage path\n",
    "display(dbutils.fs.ls(f\"wasbs://{container_name}@{storage_account_name}.blob.core.windows.net/{file_path_complete}\"))"
   ]
  },
  {
   "cell_type": "code",
   "execution_count": 0,
   "metadata": {
    "application/vnd.databricks.v1+cell": {
     "cellMetadata": {},
     "inputWidgets": {},
     "nuid": "b7bc461b-801b-4f4f-adde-91e5da1287f5",
     "showTitle": false,
     "tableResultSettingsMap": {},
     "title": ""
    }
   },
   "outputs": [],
   "source": [
    "# Displaying the Dataset\n",
    "df = spark.read.parquet(f\"wasbs://{container_name}@{storage_account_name}.blob.core.windows.net/{file_path_complete}\")\n",
    "display(df)"
   ]
  },
  {
   "cell_type": "markdown",
   "metadata": {
    "application/vnd.databricks.v1+cell": {
     "cellMetadata": {},
     "inputWidgets": {},
     "nuid": "1e51dfed-9ce4-4d20-86bb-06792176772e",
     "showTitle": false,
     "tableResultSettingsMap": {},
     "title": ""
    }
   },
   "source": [
    "> Loading finished"
   ]
  },
  {
   "cell_type": "markdown",
   "metadata": {
    "application/vnd.databricks.v1+cell": {
     "cellMetadata": {},
     "inputWidgets": {},
     "nuid": "ba0491b9-d74c-46fa-be7a-ddd8639c8b0f",
     "showTitle": false,
     "tableResultSettingsMap": {},
     "title": ""
    }
   },
   "source": [
    "> ###Preprocessing Dataset and removing unnecessary Columns & Rows"
   ]
  },
  {
   "cell_type": "code",
   "execution_count": 0,
   "metadata": {
    "application/vnd.databricks.v1+cell": {
     "cellMetadata": {},
     "inputWidgets": {},
     "nuid": "76f45447-71ed-434e-a3e5-781ad432be02",
     "showTitle": false,
     "tableResultSettingsMap": {},
     "title": ""
    }
   },
   "outputs": [],
   "source": [
    "# Keep only the required columns from the dataset\n",
    "required_columns = [\"AnimalIdentifier\", \"TransitionAnimalEartag\", \"HerdIdentifier\", \"EventDate\", \"ObservationValue\", \"ObservationType\", \"TransitionDaysInMilk\", \"TransitionCalvingDate\", \"TransitionLactationNumber\", \"TransitionParity\", \"TransitionSeason\"]\n",
    "\n",
    "df_processed = df.select(required_columns)\n",
    "\n",
    "display (df_processed)"
   ]
  },
  {
   "cell_type": "markdown",
   "metadata": {
    "application/vnd.databricks.v1+cell": {
     "cellMetadata": {},
     "inputWidgets": {},
     "nuid": "499e9ba1-f4f2-4467-8405-044910be524f",
     "showTitle": false,
     "tableResultSettingsMap": {},
     "title": ""
    }
   },
   "source": [
    "> Keep only \"PerDay\", \"Per2Hrs\" in OservationType"
   ]
  },
  {
   "cell_type": "code",
   "execution_count": 0,
   "metadata": {
    "application/vnd.databricks.v1+cell": {
     "cellMetadata": {},
     "inputWidgets": {},
     "nuid": "d1ddc7d6-adf8-4e0f-8bea-379542346550",
     "showTitle": false,
     "tableResultSettingsMap": {},
     "title": ""
    }
   },
   "outputs": [],
   "source": [
    "from pyspark.sql.functions import col\n",
    "\n",
    "# Keep only rows where ObservationType is \"MinutesPerDay\" and \"MinutesPer2Hours\"\n",
    "df_processed_observations = df_processed.filter(\n",
    "    col(\"ObservationType\").rlike(\"PerDay$|Per2Hours$\")\n",
    ")\n",
    "\n",
    "display(df_processed_observations)"
   ]
  },
  {
   "cell_type": "markdown",
   "metadata": {
    "application/vnd.databricks.v1+cell": {
     "cellMetadata": {},
     "inputWidgets": {},
     "nuid": "2783a2b3-bb1a-4cd6-9876-5ac0a213c938",
     "showTitle": false,
     "tableResultSettingsMap": {},
     "title": ""
    }
   },
   "source": [
    "> ###Checking unique values for \"ObservationType\" Column"
   ]
  },
  {
   "cell_type": "code",
   "execution_count": 0,
   "metadata": {
    "application/vnd.databricks.v1+cell": {
     "cellMetadata": {},
     "inputWidgets": {},
     "nuid": "2163c173-a512-44fb-a522-55713452d746",
     "showTitle": false,
     "tableResultSettingsMap": {},
     "title": ""
    }
   },
   "outputs": [],
   "source": [
    "# Show all distinct values in ObservationType column\n",
    "display(df_processed_observations.select(\"ObservationType\").distinct())"
   ]
  },
  {
   "cell_type": "code",
   "execution_count": 0,
   "metadata": {
    "application/vnd.databricks.v1+cell": {
     "cellMetadata": {},
     "inputWidgets": {},
     "nuid": "9294a112-824d-4c2b-ae8e-1be7075203d2",
     "showTitle": false,
     "tableResultSettingsMap": {},
     "title": ""
    }
   },
   "outputs": [],
   "source": [
    "# For %Per2Hours\n",
    "df_processed_observations.filter(col(\"ObservationType\").endswith(\"Per2Hours\")) \\\n",
    "         .select(\"ObservationType\") \\\n",
    "         .distinct() \\\n",
    "         .orderBy(\"ObservationType\") \\\n",
    "         .show(truncate=False)"
   ]
  },
  {
   "cell_type": "code",
   "execution_count": 0,
   "metadata": {
    "application/vnd.databricks.v1+cell": {
     "cellMetadata": {},
     "inputWidgets": {},
     "nuid": "93504db3-db1a-4aa9-bf49-84c898920c24",
     "showTitle": false,
     "tableResultSettingsMap": {},
     "title": ""
    }
   },
   "outputs": [],
   "source": [
    "# For %PerDay\n",
    "df_processed_observations.filter(col(\"ObservationType\").endswith(\"PerDay\")) \\\n",
    "         .select(\"ObservationType\") \\\n",
    "         .distinct() \\\n",
    "         .orderBy(\"ObservationType\") \\\n",
    "         .show(truncate=False)"
   ]
  },
  {
   "cell_type": "markdown",
   "metadata": {
    "application/vnd.databricks.v1+cell": {
     "cellMetadata": {},
     "inputWidgets": {},
     "nuid": "040bea61-bc9e-469b-9088-3713859dcf71",
     "showTitle": false,
     "tableResultSettingsMap": {},
     "title": ""
    }
   },
   "source": [
    "> Removing undesired Rows from \"ObservationType\""
   ]
  },
  {
   "cell_type": "code",
   "execution_count": 0,
   "metadata": {
    "application/vnd.databricks.v1+cell": {
     "cellMetadata": {},
     "inputWidgets": {},
     "nuid": "7546d074-7fef-43c6-94c1-4425f373674f",
     "showTitle": false,
     "tableResultSettingsMap": {},
     "title": ""
    }
   },
   "outputs": [],
   "source": [
    "# Removing more ObservationType \n",
    "types_to_remove = [\"EatingNumberOfBoutsPerDay\", \"InactiveBoutLengthMinutesPerDay\", \"InactiveBoutsPerDay\", \"InactiveInterboutLengthMinutesPerDay\", \"LyingBoutLengthLowerQntMinutesPerDay\", \"LyingBoutLengthMaxMinutesPerDay\", \"LyingBoutLengthMedMinutesPerDay\", \"LyingBoutLengthMinMinutesPerDay\", \"LyingBoutLengthMinutesPerDay\", \"LyingBoutLengthUpperQntMinutesPerDay\", \"LyingBoutsPerDay\", \"RuminationNumberOfBoutsPerDay\", \"StandupsPerDay\" ]\n",
    "\n",
    "# Filter out those unwanted observation types\n",
    "df_cleaned = df_processed_observations.filter(~col(\"ObservationType\").isin(types_to_remove))"
   ]
  },
  {
   "cell_type": "code",
   "execution_count": 0,
   "metadata": {
    "application/vnd.databricks.v1+cell": {
     "cellMetadata": {},
     "inputWidgets": {},
     "nuid": "90dccf17-3a73-4182-8694-229f5a1cc30e",
     "showTitle": false,
     "tableResultSettingsMap": {},
     "title": ""
    }
   },
   "outputs": [],
   "source": [
    "# For %PerDay\n",
    "df_cleaned.filter(col(\"ObservationType\").endswith(\"PerDay\")) \\\n",
    "         .select(\"ObservationType\") \\\n",
    "         .distinct() \\\n",
    "         .orderBy(\"ObservationType\") \\\n",
    "         .show(truncate=False)"
   ]
  },
  {
   "cell_type": "markdown",
   "metadata": {
    "application/vnd.databricks.v1+cell": {
     "cellMetadata": {},
     "inputWidgets": {},
     "nuid": "a2936477-09c5-4848-85a8-4e081329dd5b",
     "showTitle": false,
     "tableResultSettingsMap": {},
     "title": ""
    }
   },
   "source": [
    "> ###Checking for Null Values of each column Seprately"
   ]
  },
  {
   "cell_type": "code",
   "execution_count": 0,
   "metadata": {
    "application/vnd.databricks.v1+cell": {
     "cellMetadata": {},
     "inputWidgets": {},
     "nuid": "74d62fce-05d6-4598-a02e-ae33a797dfe9",
     "showTitle": false,
     "tableResultSettingsMap": {},
     "title": ""
    }
   },
   "outputs": [],
   "source": [
    "from pyspark.sql.functions import col, sum as spark_sum, when\n",
    "\n",
    "# Loop through each column and print null counts\n",
    "for column_name in df_cleaned.columns:\n",
    "    null_count = df_cleaned.select(\n",
    "        spark_sum(when(col(column_name).isNull(), 1).otherwise(0)).alias(\"nulls\")\n",
    "    ).collect()[0][\"nulls\"]\n",
    "    \n",
    "    print(f\"Column '{column_name}' has {null_count} null values.\")\n"
   ]
  },
  {
   "cell_type": "markdown",
   "metadata": {
    "application/vnd.databricks.v1+cell": {
     "cellMetadata": {},
     "inputWidgets": {},
     "nuid": "5a1d9e74-b3d0-4fd1-a9b0-6237e245abe6",
     "showTitle": false,
     "tableResultSettingsMap": {},
     "title": ""
    }
   },
   "source": [
    "> Checking total number of Rows"
   ]
  },
  {
   "cell_type": "code",
   "execution_count": 0,
   "metadata": {
    "application/vnd.databricks.v1+cell": {
     "cellMetadata": {},
     "inputWidgets": {},
     "nuid": "6ae12ad4-874e-45a8-b0a1-142f7ce7b750",
     "showTitle": false,
     "tableResultSettingsMap": {},
     "title": ""
    }
   },
   "outputs": [],
   "source": [
    "# Count total number of rows in the dataset\n",
    "row_count = df_cleaned.count()\n",
    "print(f\"Total number of rows: {row_count}\")\n"
   ]
  },
  {
   "cell_type": "markdown",
   "metadata": {
    "application/vnd.databricks.v1+cell": {
     "cellMetadata": {},
     "inputWidgets": {},
     "nuid": "9140cabb-3914-41ef-9ad7-5b14c154d4b5",
     "showTitle": false,
     "tableResultSettingsMap": {},
     "title": ""
    }
   },
   "source": [
    "> Frequency Check - Checking if each \"AnimalIdentifier\" maps to one and only one \"TranisitonAnimalEartag\""
   ]
  },
  {
   "cell_type": "code",
   "execution_count": 0,
   "metadata": {
    "application/vnd.databricks.v1+cell": {
     "cellMetadata": {},
     "inputWidgets": {},
     "nuid": "7e453547-f214-4478-bd77-d611b34e5130",
     "showTitle": false,
     "tableResultSettingsMap": {},
     "title": ""
    }
   },
   "outputs": [],
   "source": [
    "from pyspark.sql.functions import col, countDistinct\n",
    "\n",
    "# Group by AnimalIdentifier and count distinct TransitionAnimalEartag for each\n",
    "ambiguous_mapping = df_cleaned.groupBy(\"AnimalIdentifier\") \\\n",
    "    .agg(countDistinct(\"TransitionAnimalEartag\").alias(\"distinct_eartag_count\")) \\\n",
    "    .filter(col(\"distinct_eartag_count\") > 1)\n",
    "\n",
    "# Display AnimalIdentifiers with ambiguous mappings (more than one possible eartag)\n",
    "display(ambiguous_mapping)\n"
   ]
  },
  {
   "cell_type": "markdown",
   "metadata": {
    "application/vnd.databricks.v1+cell": {
     "cellMetadata": {},
     "inputWidgets": {},
     "nuid": "d79bb51c-45c7-43c2-842d-a3ef4c446e54",
     "showTitle": false,
     "tableResultSettingsMap": {},
     "title": ""
    }
   },
   "source": [
    "> ###Removing Rows with \"TranistionAnimalEartag\" = NULL\n",
    "\n",
    "> We only have 0.001% Null values removing them will not effect the Dataset"
   ]
  },
  {
   "cell_type": "code",
   "execution_count": 0,
   "metadata": {
    "application/vnd.databricks.v1+cell": {
     "cellMetadata": {},
     "inputWidgets": {},
     "nuid": "030afab9-def0-4402-85a9-c2b958d10ed4",
     "showTitle": false,
     "tableResultSettingsMap": {},
     "title": ""
    }
   },
   "outputs": [],
   "source": [
    "# Drop rows with null TransitionAnimalEartag\n",
    "df_final = df_cleaned.filter(col(\"TransitionAnimalEartag\").isNotNull())\n"
   ]
  },
  {
   "cell_type": "markdown",
   "metadata": {
    "application/vnd.databricks.v1+cell": {
     "cellMetadata": {},
     "inputWidgets": {},
     "nuid": "4959eb52-8537-4767-ae07-d842e238994e",
     "showTitle": false,
     "tableResultSettingsMap": {},
     "title": ""
    }
   },
   "source": [
    "> Dataset is ready for 3D sensor - df_final is the finalized dataset"
   ]
  },
  {
   "cell_type": "markdown",
   "metadata": {
    "application/vnd.databricks.v1+cell": {
     "cellMetadata": {},
     "inputWidgets": {},
     "nuid": "5d7b5c52-2fe3-49a5-9103-3bd667ecd667",
     "showTitle": false,
     "tableResultSettingsMap": {},
     "title": ""
    }
   },
   "source": [
    "> ###Creating a 3D tensor"
   ]
  },
  {
   "cell_type": "markdown",
   "metadata": {
    "application/vnd.databricks.v1+cell": {
     "cellMetadata": {},
     "inputWidgets": {},
     "nuid": "ed3c2e23-b005-43dc-a0c2-5fdc7e31dcf2",
     "showTitle": false,
     "tableResultSettingsMap": {},
     "title": ""
    }
   },
   "source": [
    "> Filtering a Single Cow"
   ]
  },
  {
   "cell_type": "code",
   "execution_count": 0,
   "metadata": {
    "application/vnd.databricks.v1+cell": {
     "cellMetadata": {},
     "inputWidgets": {},
     "nuid": "b165043a-fefa-4821-84cf-8dabb27eeca6",
     "showTitle": false,
     "tableResultSettingsMap": {},
     "title": ""
    }
   },
   "outputs": [],
   "source": [
    "# Identify 1 unique cows\n",
    "unique_cows = df_final.select(\"TransitionAnimalEartag\").distinct().limit(1)\n",
    "\n",
    "# Join to filter full dataset to those 1 cow\n",
    "df_sampled = df_final.join(unique_cows, on=\"TransitionAnimalEartag\", how=\"inner\")\n",
    "\n",
    "# Verify\n",
    "df_sampled.select(\"TransitionAnimalEartag\").distinct().show()\n"
   ]
  },
  {
   "cell_type": "markdown",
   "metadata": {
    "application/vnd.databricks.v1+cell": {
     "cellMetadata": {},
     "inputWidgets": {},
     "nuid": "1493a9cf-cd1e-4266-aaf6-a1e979665c45",
     "showTitle": false,
     "tableResultSettingsMap": {},
     "title": ""
    }
   },
   "source": [
    "> Filtering \"TransitionDaysInMilk\" days from -21 to 305"
   ]
  },
  {
   "cell_type": "code",
   "execution_count": 0,
   "metadata": {
    "application/vnd.databricks.v1+cell": {
     "cellMetadata": {},
     "inputWidgets": {},
     "nuid": "656ba521-ff8f-418a-9e94-b29660c2d882",
     "showTitle": false,
     "tableResultSettingsMap": {},
     "title": ""
    }
   },
   "outputs": [],
   "source": [
    "from pyspark.sql.functions import col\n",
    "\n",
    "# Filter days in the valid range [-21, 305]\n",
    "df_sampled_filtered = df_sampled.filter(\n",
    "    (col(\"TransitionDaysInMilk\") >= -21) & (col(\"TransitionDaysInMilk\") <= 305)\n",
    ")\n",
    "\n"
   ]
  },
  {
   "cell_type": "markdown",
   "metadata": {
    "application/vnd.databricks.v1+cell": {
     "cellMetadata": {},
     "inputWidgets": {},
     "nuid": "59766f91-4009-428e-9ad9-ada39aa05020",
     "showTitle": false,
     "tableResultSettingsMap": {},
     "title": ""
    }
   },
   "source": [
    "> Spilliting the Dataset %PerDay and %Per2Hours"
   ]
  },
  {
   "cell_type": "code",
   "execution_count": 0,
   "metadata": {
    "application/vnd.databricks.v1+cell": {
     "cellMetadata": {},
     "inputWidgets": {},
     "nuid": "75c77d43-f884-44d0-a950-c7aa9c16bd72",
     "showTitle": false,
     "tableResultSettingsMap": {},
     "title": ""
    }
   },
   "outputs": [],
   "source": [
    "# Filter %PerDay observation types\n",
    "per_day_df = df_sampled_filtered.filter(col(\"ObservationType\").like(\"%PerDay\"))\n",
    "\n",
    "# Filter %Per2Hours observation types\n",
    "per_2hr_df = df_sampled_filtered.filter(col(\"ObservationType\").like(\"%Per2Hours\"))\n"
   ]
  },
  {
   "cell_type": "markdown",
   "metadata": {
    "application/vnd.databricks.v1+cell": {
     "cellMetadata": {},
     "inputWidgets": {},
     "nuid": "7a38cef1-cfb4-49dc-ab5b-5319ec60bd5e",
     "showTitle": false,
     "tableResultSettingsMap": {},
     "title": ""
    }
   },
   "source": [
    "> Pivoting Dataset"
   ]
  },
  {
   "cell_type": "code",
   "execution_count": 0,
   "metadata": {
    "application/vnd.databricks.v1+cell": {
     "cellMetadata": {},
     "inputWidgets": {},
     "nuid": "dc8b55cc-2adc-4e4c-af00-1d9821139226",
     "showTitle": false,
     "tableResultSettingsMap": {},
     "title": ""
    }
   },
   "outputs": [],
   "source": [
    "from pyspark.sql.functions import col, first\n",
    "\n",
    "# Cast 'ObservationValue' to float for both subsets\n",
    "per_day_df = per_day_df.withColumn(\"ObservationValue\", col(\"ObservationValue\").cast(\"float\"))\n",
    "per_2hr_df = per_2hr_df.withColumn(\"ObservationValue\", col(\"ObservationValue\").cast(\"float\"))\n",
    "\n",
    "# Pivot PerDay subset\n",
    "pivot_per_day = per_day_df.groupBy(\"TransitionAnimalEartag\", \"TransitionDaysInMilk\")\\\n",
    "    .pivot(\"ObservationType\")\\\n",
    "    .agg(first(\"ObservationValue\"))\n",
    "\n",
    "# Pivot Per2Hours subset\n",
    "pivot_per_2hours = per_2hr_df.groupBy(\"TransitionAnimalEartag\", \"TransitionDaysInMilk\")\\\n",
    "    .pivot(\"ObservationType\")\\\n",
    "    .agg(first(\"ObservationValue\"))\n"
   ]
  },
  {
   "cell_type": "markdown",
   "metadata": {
    "application/vnd.databricks.v1+cell": {
     "cellMetadata": {},
     "inputWidgets": {},
     "nuid": "6b1e8259-1abf-4e08-8950-acf7f1b1c1da",
     "showTitle": false,
     "tableResultSettingsMap": {},
     "title": ""
    }
   },
   "source": [
    "> Joining the Pivotted Dataset"
   ]
  },
  {
   "cell_type": "code",
   "execution_count": 0,
   "metadata": {
    "application/vnd.databricks.v1+cell": {
     "cellMetadata": {},
     "inputWidgets": {},
     "nuid": "facf7651-3ced-49a1-882c-e08c22e2596e",
     "showTitle": false,
     "tableResultSettingsMap": {},
     "title": ""
    }
   },
   "outputs": [],
   "source": [
    "# Join pivoted PerDay and Per2Hours tables\n",
    "joined_pivot = pivot_per_day.alias(\"day\").join(\n",
    "    pivot_per_2hours.alias(\"hr\"),\n",
    "    on=[\"TransitionAnimalEartag\", \"TransitionDaysInMilk\"],\n",
    "    how=\"inner\"\n",
    ")\n",
    "\n",
    "display(joined_pivot)"
   ]
  },
  {
   "cell_type": "code",
   "execution_count": 0,
   "metadata": {
    "application/vnd.databricks.v1+cell": {
     "cellMetadata": {},
     "inputWidgets": {},
     "nuid": "b433fa8e-b92a-4241-9fe4-f8c4212cf635",
     "showTitle": false,
     "tableResultSettingsMap": {},
     "title": ""
    }
   },
   "outputs": [],
   "source": [
    "# Get columns lists\n",
    "per_day_cols = [col for col in pivot_per_day.columns if col not in [\"TransitionAnimalEartag\", \"TransitionDaysInMilk\"]]\n",
    "per_2hr_cols = [col for col in pivot_per_2hours.columns if col not in [\"TransitionAnimalEartag\", \"TransitionDaysInMilk\"]]\n"
   ]
  },
  {
   "cell_type": "code",
   "execution_count": 0,
   "metadata": {
    "application/vnd.databricks.v1+cell": {
     "cellMetadata": {},
     "inputWidgets": {},
     "nuid": "9352e5bf-1fa2-4615-b541-3b894dadc464",
     "showTitle": false,
     "tableResultSettingsMap": {},
     "title": ""
    }
   },
   "outputs": [],
   "source": [
    "# Collect and sort Days\n",
    "# Filter for one cow (in case more got in later)\n",
    "cow_id = joined_pivot.select(\"TransitionAnimalEartag\").first()[\"TransitionAnimalEartag\"]\n",
    "\n",
    "# Filter and sort by day\n",
    "cow_df_sorted = joined_pivot.filter(col(\"TransitionAnimalEartag\") == cow_id)\\\n",
    "                            .orderBy(\"TransitionDaysInMilk\")\n"
   ]
  },
  {
   "cell_type": "markdown",
   "metadata": {
    "application/vnd.databricks.v1+cell": {
     "cellMetadata": {},
     "inputWidgets": {},
     "nuid": "65dd0324-88e1-4c4a-bca0-58715923936b",
     "showTitle": false,
     "tableResultSettingsMap": {},
     "title": ""
    }
   },
   "source": []
  },
  {
   "cell_type": "code",
   "execution_count": 0,
   "metadata": {
    "application/vnd.databricks.v1+cell": {
     "cellMetadata": {},
     "inputWidgets": {},
     "nuid": "6b843d25-8dcf-4b21-92bc-83d1705fb0e6",
     "showTitle": false,
     "tableResultSettingsMap": {},
     "title": ""
    }
   },
   "outputs": [],
   "source": [
    "# Build a 3D tensor\n",
    "import numpy as np\n",
    "\n",
    "# Convert to local rows\n",
    "rows = cow_df_sorted.collect()\n",
    "tensor = []\n",
    "\n",
    "for row in rows:\n",
    "    per_day_vec = [row[col] for col in per_day_cols]\n",
    "    per_2hr_vec = [row[col] for col in per_2hr_cols]\n",
    "\n",
    "    if None in per_day_vec or None in per_2hr_vec:\n",
    "        matrix = np.zeros((7, 7)).tolist()\n",
    "    else:\n",
    "        matrix = np.outer(per_day_vec, per_2hr_vec).tolist()\n",
    "\n",
    "    tensor.append(matrix)\n",
    "\n",
    "# Final tensor shape: [T, 7, 7]\n",
    "print(f\" Built tensor with shape: [{len(tensor)}, 7, 7]\")\n"
   ]
  },
  {
   "cell_type": "markdown",
   "metadata": {
    "application/vnd.databricks.v1+cell": {
     "cellMetadata": {},
     "inputWidgets": {},
     "nuid": "c21a17b6-9826-428d-bbde-6c25e9097acf",
     "showTitle": false,
     "tableResultSettingsMap": {},
     "title": ""
    }
   },
   "source": [
    "> Displaying Tensor Shape"
   ]
  },
  {
   "cell_type": "code",
   "execution_count": 0,
   "metadata": {
    "application/vnd.databricks.v1+cell": {
     "cellMetadata": {},
     "inputWidgets": {},
     "nuid": "25cc3a13-8ef7-4e3b-8f0d-f4cc45d7dc91",
     "showTitle": false,
     "tableResultSettingsMap": {},
     "title": ""
    }
   },
   "outputs": [],
   "source": [
    "# Check basic shape\n",
    "print(f\"Tensor shape: {len(tensor)} days × 7 × 7\")\n",
    "\n",
    "# Check type and dimensions of one sample\n",
    "print(\"Sample matrix shape:\", np.array(tensor[0]).shape)\n"
   ]
  },
  {
   "cell_type": "code",
   "execution_count": 0,
   "metadata": {
    "application/vnd.databricks.v1+cell": {
     "cellMetadata": {},
     "inputWidgets": {},
     "nuid": "a81372b2-c7c5-413c-be93-fd396a17de32",
     "showTitle": false,
     "tableResultSettingsMap": {},
     "title": ""
    }
   },
   "outputs": [],
   "source": [
    "# Preview the first 3 day-matrices\n",
    "for i, matrix in enumerate(tensor[:3]):\n",
    "    print(f\"\\nDay {i+1} (TransitionDaysInMilk):\")\n",
    "    for row in matrix:\n",
    "        print(row)\n"
   ]
  },
  {
   "cell_type": "code",
   "execution_count": 0,
   "metadata": {
    "application/vnd.databricks.v1+cell": {
     "cellMetadata": {},
     "inputWidgets": {},
     "nuid": "8e42203d-1c3a-486a-91a6-1d15d36358b1",
     "showTitle": false,
     "tableResultSettingsMap": {},
     "title": ""
    }
   },
   "outputs": [],
   "source": [
    "# Check how many matrices are all zeros\n",
    "zero_matrices = sum(1 for m in tensor if np.sum(m) == 0.0)\n",
    "print(f\"⚠️ Zero-filled matrices: {zero_matrices} / {len(tensor)}\")\n"
   ]
  },
  {
   "cell_type": "markdown",
   "metadata": {
    "application/vnd.databricks.v1+cell": {
     "cellMetadata": {},
     "inputWidgets": {},
     "nuid": "5520c6e4-31e0-4478-8155-cc40d531ac09",
     "showTitle": false,
     "tableResultSettingsMap": {},
     "title": ""
    }
   },
   "source": [
    "> Normalizing "
   ]
  },
  {
   "cell_type": "code",
   "execution_count": 0,
   "metadata": {
    "application/vnd.databricks.v1+cell": {
     "cellMetadata": {},
     "inputWidgets": {},
     "nuid": "76976b30-9500-4a80-8b66-ac99f5c18863",
     "showTitle": false,
     "tableResultSettingsMap": {},
     "title": ""
    }
   },
   "outputs": [],
   "source": [
    "# Normalize each matrix to range [0, 1]\n",
    "normalized_tensor = []\n",
    "\n",
    "for matrix in tensor:\n",
    "    np_matrix = np.array(matrix)\n",
    "    min_val = np_matrix.min()\n",
    "    max_val = np_matrix.max()\n",
    "    \n",
    "    if max_val > min_val: \n",
    "        norm_matrix = (np_matrix - min_val) / (max_val - min_val)\n",
    "    else:\n",
    "        norm_matrix = np.zeros_like(np_matrix)  \n",
    "\n",
    "    normalized_tensor.append(norm_matrix.tolist())\n"
   ]
  },
  {
   "cell_type": "code",
   "execution_count": 0,
   "metadata": {
    "application/vnd.databricks.v1+cell": {
     "cellMetadata": {},
     "inputWidgets": {},
     "nuid": "0d181f42-b797-4ad2-ab8e-81d253032b8e",
     "showTitle": false,
     "tableResultSettingsMap": {},
     "title": ""
    }
   },
   "outputs": [],
   "source": [
    "# Displaying Normalized values\n",
    "for i, matrix in enumerate(normalized_tensor[:2]):\n",
    "    print(f\"\\nDay {i+1} (normalized):\")\n",
    "    for row in matrix:\n",
    "        print([round(val, 3) for val in row])\n"
   ]
  },
  {
   "cell_type": "markdown",
   "metadata": {
    "application/vnd.databricks.v1+cell": {
     "cellMetadata": {},
     "inputWidgets": {},
     "nuid": "f99bdf9f-b124-49a1-a50e-90287396bde6",
     "showTitle": false,
     "tableResultSettingsMap": {},
     "title": ""
    }
   },
   "source": [
    "> ###Saving .tfrecords"
   ]
  },
  {
   "cell_type": "code",
   "execution_count": 0,
   "metadata": {
    "application/vnd.databricks.v1+cell": {
     "cellMetadata": {},
     "inputWidgets": {},
     "nuid": "3fed54e4-8278-4d35-8f45-e6d8cdc08be4",
     "showTitle": false,
     "tableResultSettingsMap": {},
     "title": ""
    }
   },
   "outputs": [],
   "source": [
    "import tensorflow as tf\n",
    "\n",
    "# Flatten normalized tensor\n",
    "flat_tensor = [value for matrix in normalized_tensor for row in matrix for value in row]\n",
    "\n",
    "# Create tf.train.Example\n",
    "example = tf.train.Example(features=tf.train.Features(feature={\n",
    "    \"tensor\": tf.train.Feature(float_list=tf.train.FloatList(value=flat_tensor)),\n",
    "    \"tensor_shape\": tf.train.Feature(int64_list=tf.train.Int64List(value=[len(normalized_tensor), 7, 7]))\n",
    "}))\n"
   ]
  },
  {
   "cell_type": "code",
   "execution_count": 0,
   "metadata": {
    "application/vnd.databricks.v1+cell": {
     "cellMetadata": {},
     "inputWidgets": {},
     "nuid": "de797846-054e-43d8-a693-a550ad410c61",
     "showTitle": false,
     "tableResultSettingsMap": {},
     "title": ""
    }
   },
   "outputs": [],
   "source": [
    "# Output path in DBFS\n",
    "output_path = \"/dbfs/tmp/BehaviorTFRecords_CowOne/cow_1.tfrecord\"\n",
    "\n",
    "# Ensure output directory exists\n",
    "import os\n",
    "os.makedirs(\"/dbfs/tmp/BehaviorTFRecords_CowOne/\", exist_ok=True)\n",
    "\n",
    "# Write TFRecord\n",
    "with tf.io.TFRecordWriter(output_path) as writer:\n",
    "    writer.write(example.SerializeToString())\n"
   ]
  },
  {
   "cell_type": "code",
   "execution_count": 0,
   "metadata": {
    "application/vnd.databricks.v1+cell": {
     "cellMetadata": {},
     "inputWidgets": {},
     "nuid": "ffc57884-8036-4415-974a-65a036fe4967",
     "showTitle": false,
     "tableResultSettingsMap": {},
     "title": ""
    }
   },
   "outputs": [],
   "source": [
    "display(dbutils.fs.ls(\"dbfs:/tmp/BehaviorTFRecords_CowOne/\"))\n"
   ]
  },
  {
   "cell_type": "code",
   "execution_count": 0,
   "metadata": {
    "application/vnd.databricks.v1+cell": {
     "cellMetadata": {},
     "inputWidgets": {},
     "nuid": "5c010d5c-53c7-4124-8f76-488b11ee30aa",
     "showTitle": false,
     "tableResultSettingsMap": {},
     "title": ""
    }
   },
   "outputs": [],
   "source": [
    "# Copy from DBFS to WASBS\n",
    "dbutils.fs.cp(\n",
    "    \"dbfs:/tmp/BehaviorTFRecords_CowOne/cow_1.tfrecord\",\n",
    "    f\"wasbs://{container_name}@{storage_account_name}.blob.core.windows.net/Projects/MuhammadAzam/BehaviorTFRecords_CowOne/cow_1.tfrecord\"\n",
    ")\n"
   ]
  },
  {
   "cell_type": "code",
   "execution_count": 0,
   "metadata": {
    "application/vnd.databricks.v1+cell": {
     "cellMetadata": {},
     "inputWidgets": {},
     "nuid": "bb07df4e-8668-416e-bcb5-031bf65fc03a",
     "showTitle": false,
     "tableResultSettingsMap": {},
     "title": ""
    }
   },
   "outputs": [],
   "source": [
    "display(dbutils.fs.ls(f\"wasbs://{container_name}@{storage_account_name}.blob.core.windows.net/Projects/MuhammadAzam/BehaviorTFRecords_CowOne/\"))\n"
   ]
  },
  {
   "cell_type": "markdown",
   "metadata": {
    "application/vnd.databricks.v1+cell": {
     "cellMetadata": {},
     "inputWidgets": {},
     "nuid": "b6a74f48-4428-43ab-abff-ea1d0cd8b4a2",
     "showTitle": false,
     "tableResultSettingsMap": {},
     "title": ""
    }
   },
   "source": [
    "> Loading tfrecords"
   ]
  },
  {
   "cell_type": "code",
   "execution_count": 0,
   "metadata": {
    "application/vnd.databricks.v1+cell": {
     "cellMetadata": {},
     "inputWidgets": {},
     "nuid": "81a6cb6b-c9d2-4620-ae4d-935f6bea2e32",
     "showTitle": false,
     "tableResultSettingsMap": {},
     "title": ""
    }
   },
   "outputs": [],
   "source": [
    "import tensorflow as tf\n",
    "\n",
    "# Load the TFRecord dataset\n",
    "tfrecord_path = \"/dbfs/tmp/BehaviorTFRecords_CowOne/cow_1.tfrecord\"\n",
    "raw_dataset = tf.data.TFRecordDataset(tfrecord_path)\n",
    "\n",
    "#  Check if any records exist\n",
    "for raw_record in raw_dataset.take(1):\n",
    "    print(\" Raw record found:\", raw_record)\n"
   ]
  },
  {
   "cell_type": "code",
   "execution_count": 0,
   "metadata": {
    "application/vnd.databricks.v1+cell": {
     "cellMetadata": {},
     "inputWidgets": {},
     "nuid": "4242cffe-ce6c-47b7-b949-fe2256973c24",
     "showTitle": false,
     "tableResultSettingsMap": {},
     "title": ""
    }
   },
   "outputs": [],
   "source": [
    "print(\"Total flattened values:\", len(flat_tensor))  # flat_tensor from earlier"
   ]
  },
  {
   "cell_type": "code",
   "execution_count": 0,
   "metadata": {
    "application/vnd.databricks.v1+cell": {
     "cellMetadata": {},
     "inputWidgets": {},
     "nuid": "d023f136-c475-4895-a253-f082a06872b9",
     "showTitle": false,
     "tableResultSettingsMap": {},
     "title": ""
    }
   },
   "outputs": [],
   "source": [
    "import tensorflow as tf\n",
    "\n",
    "# flattened length\n",
    "feature_description = {\n",
    "    \"tensor\": tf.io.FixedLenFeature([16023], tf.float32),\n",
    "    \"tensor_shape\": tf.io.FixedLenFeature([3], tf.int64)\n",
    "}\n",
    "\n",
    "# Reload the TFRecord file\n",
    "tfrecord_path = \"/dbfs/tmp/BehaviorTFRecords_CowOne/cow_1.tfrecord\"\n",
    "raw_dataset = tf.data.TFRecordDataset(tfrecord_path)\n",
    "\n",
    "# Parse and reshape the tensor\n",
    "for raw_record in raw_dataset.take(1):\n",
    "    parsed = tf.io.parse_single_example(raw_record, feature_description)\n",
    "    shape = parsed[\"tensor_shape\"]\n",
    "    tensor = tf.reshape(parsed[\"tensor\"], shape)\n",
    "\n",
    "    print(\" Parsed tensor shape:\", tensor.shape)\n"
   ]
  },
  {
   "cell_type": "markdown",
   "metadata": {
    "application/vnd.databricks.v1+cell": {
     "cellMetadata": {},
     "inputWidgets": {},
     "nuid": "4b95780b-7515-403f-a95e-108f2cae1472",
     "showTitle": false,
     "tableResultSettingsMap": {},
     "title": ""
    }
   },
   "source": [
    "> Displaying Reloaded tensor"
   ]
  },
  {
   "cell_type": "code",
   "execution_count": 0,
   "metadata": {
    "application/vnd.databricks.v1+cell": {
     "cellMetadata": {},
     "inputWidgets": {},
     "nuid": "a34bc019-a603-488f-a275-bc3687ec11fc",
     "showTitle": false,
     "tableResultSettingsMap": {},
     "title": ""
    }
   },
   "outputs": [],
   "source": [
    "import tensorflow as tf\n",
    "\n",
    "# TFRecord path\n",
    "tfrecord_path = \"/dbfs/tmp/BehaviorTFRecords_CowOne/cow_1.tfrecord\"\n",
    "\n",
    "# Define parser\n",
    "def parse_fn(example_proto):\n",
    "    feature_description = {\n",
    "        \"tensor\": tf.io.FixedLenFeature([16023], tf.float32),\n",
    "        \"tensor_shape\": tf.io.FixedLenFeature([3], tf.int64)\n",
    "    }\n",
    "    parsed = tf.io.parse_single_example(example_proto, feature_description)\n",
    "    tensor = tf.reshape(parsed[\"tensor\"], parsed[\"tensor_shape\"])\n",
    "    return tensor\n",
    "\n",
    "# Load and parse dataset\n",
    "parsed_ds = tf.data.TFRecordDataset(tfrecord_path).map(parse_fn)\n",
    "\n",
    "# Display first 3 day matrices from first tensor\n",
    "for tensor in parsed_ds.take(1):\n",
    "    tf.print(\" Full tensor shape:\", tf.shape(tensor))\n",
    "    tf.print(\"\\nDay 1 matrix:\\n\", tensor[0])\n",
    "    tf.print(\"\\nDay 2 matrix:\\n\", tensor[1])\n",
    "    tf.print(\"\\nDay 3 matrix:\\n\", tensor[2])\n"
   ]
  },
  {
   "cell_type": "markdown",
   "metadata": {
    "application/vnd.databricks.v1+cell": {
     "cellMetadata": {},
     "inputWidgets": {},
     "nuid": "21ab4ec1-a1ee-4dc5-8544-177165c3ff59",
     "showTitle": false,
     "tableResultSettingsMap": {},
     "title": ""
    }
   },
   "source": [
    "> Removing Extra Files"
   ]
  },
  {
   "cell_type": "code",
   "execution_count": 0,
   "metadata": {
    "application/vnd.databricks.v1+cell": {
     "cellMetadata": {},
     "inputWidgets": {},
     "nuid": "0153d437-dbc3-407e-912b-08e7ee974efa",
     "showTitle": false,
     "tableResultSettingsMap": {},
     "title": ""
    }
   },
   "outputs": [],
   "source": [
    "# List all files and subfolders under 'Projects/MuhammadAzam/'\n",
    "base_path = f\"wasbs://{container_name}@{storage_account_name}.blob.core.windows.net/Projects/MuhammadAzam/\"\n",
    "all_paths = dbutils.fs.ls(base_path)\n",
    "\n",
    "# Delete each file/subfolder inside the directory\n",
    "for path in all_paths:\n",
    "    dbutils.fs.rm(path.path, recurse=True)\n"
   ]
  },
  {
   "cell_type": "code",
   "execution_count": 0,
   "metadata": {
    "application/vnd.databricks.v1+cell": {
     "cellMetadata": {},
     "inputWidgets": {},
     "nuid": "859dc6ab-9821-4c56-b852-982ae2224718",
     "showTitle": false,
     "tableResultSettingsMap": {},
     "title": ""
    }
   },
   "outputs": [],
   "source": [
    "base_path = f\"wasbs://{container_name}@{storage_account_name}.blob.core.windows.net/Projects/MuhammadAzam\"\n",
    "contents = dbutils.fs.ls(base_path)\n",
    "\n",
    "# Only display if not empty\n",
    "if contents:\n",
    "    display(contents)\n",
    "else:\n",
    "    print(\" Folder is empty — ready for TFRecord export.\")\n"
   ]
  }
 ],
 "metadata": {
  "application/vnd.databricks.v1+notebook": {
   "computePreferences": null,
   "dashboards": [],
   "environmentMetadata": {
    "base_environment": "",
    "environment_version": "2"
   },
   "inputWidgetPreferences": null,
   "language": "python",
   "notebookMetadata": {
    "pythonIndentUnit": 4
   },
   "notebookName": "One cow Tensor",
   "widgets": {}
  },
  "language_info": {
   "name": "python"
  }
 },
 "nbformat": 4,
 "nbformat_minor": 0
}
